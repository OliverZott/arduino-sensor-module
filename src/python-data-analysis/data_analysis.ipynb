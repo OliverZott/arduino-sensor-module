{
 "cells": [
  {
   "cell_type": "markdown",
   "metadata": {},
   "source": [
    "# Data Analysis"
   ]
  },
  {
   "cell_type": "code",
   "execution_count": null,
   "metadata": {},
   "outputs": [],
   "source": [
    "import matplotlib.dates as mdates\n",
    "import matplotlib.pyplot as plt\n",
    "import pandas as pd"
   ]
  },
  {
   "cell_type": "code",
   "execution_count": null,
   "metadata": {},
   "outputs": [],
   "source": [
    "# Read the data from the file\n",
    "df = pd.read_csv(\"20231211_sensor.log\", sep=\",\", header=None, names=[\"Timestamp\", \"Temperature\", \"Humidity\"])\n",
    "\n",
    "# Split the 'Values' column into 'Temperature' and 'Humidity'\n",
    "# df[[\"Temperature\", \"Humidity\"]] = df[\"Values\"].str.split(\",\", expand=True).astype(float)\n",
    "\n",
    "# Convert 'Timestamp' to datetime\n",
    "df[\"Timestamp\"] = pd.to_datetime(df[\"Timestamp\"])\n",
    "\n",
    "# Set 'Timestamp' as the index\n",
    "df = df.set_index(\"Timestamp\")\n",
    "df = df.fillna(pd.NA)  # alternatives: np.nan / pd.NA\n",
    "\n",
    "\n",
    "display(df.head())\n",
    "display(df.tail())"
   ]
  },
  {
   "cell_type": "code",
   "execution_count": null,
   "metadata": {},
   "outputs": [],
   "source": [
    "# Plot the data\n",
    "plt.figure(figsize=(7, 5))\n",
    "plt.plot(df[\"Temperature\"], label=\"Temperature\")\n",
    "plt.plot(df[\"Humidity\"], label=\"Humidity\")\n",
    "plt.legend()\n",
    "plt.show()"
   ]
  },
  {
   "cell_type": "code",
   "execution_count": null,
   "metadata": {},
   "outputs": [],
   "source": [
    "# Create separate plots for Temperature and Humidity\n",
    "fig, axs = plt.subplots(2, figsize=(18, 10))\n",
    "\n",
    "\n",
    "# Format x-axis to show hours and minutes\n",
    "hours = mdates.HourLocator(interval=1)  # every hour\n",
    "half_hours = mdates.MinuteLocator(byminute=[0, 30], interval=1)  # every half hour\n",
    "fmt = mdates.DateFormatter(\"%H:%M\")\n",
    "\n",
    "\n",
    "# Temperature plot\n",
    "axs[0].plot(df[\"Temperature\"], label=\"Temperature\", color=\"red\")\n",
    "axs[0].xaxis.set_major_locator(hours)\n",
    "axs[0].xaxis.set_minor_locator(half_hours)\n",
    "axs[0].xaxis.set_major_formatter(fmt)\n",
    "axs[0].set_title(f'Temperature {df.index[0].strftime(\"%Y-%m-%d\")}')\n",
    "axs[0].set_ylabel(\"Temperature\")\n",
    "axs[0].set_ylim([-5, 35])\n",
    "axs[0].grid(True)\n",
    "axs[0].legend()\n",
    "\n",
    "# Humidity plot\n",
    "axs[1].plot(df[\"Humidity\"], label=\"Humidity\", color=\"blue\")\n",
    "axs[1].xaxis.set_major_locator(hours)\n",
    "axs[1].xaxis.set_minor_locator(half_hours)\n",
    "axs[1].xaxis.set_major_formatter(fmt)\n",
    "axs[1].set_title(f'Humidity {df.index[0].strftime(\"%Y-%m-%d\")}')\n",
    "axs[1].set_ylabel(\"Humidity\")\n",
    "axs[1].set_ylim([10, 100])\n",
    "axs[1].grid(True)\n",
    "axs[1].legend()\n",
    "\n",
    "\n",
    "plt.tight_layout()\n",
    "plt.show()"
   ]
  },
  {
   "cell_type": "code",
   "execution_count": null,
   "metadata": {},
   "outputs": [],
   "source": [
    "# TODO - statistical analysis: mean, min, max, etc"
   ]
  }
 ],
 "metadata": {
  "kernelspec": {
   "display_name": "venv",
   "language": "python",
   "name": "python3"
  },
  "language_info": {
   "codemirror_mode": {
    "name": "ipython",
    "version": 3
   },
   "file_extension": ".py",
   "mimetype": "text/x-python",
   "name": "python",
   "nbconvert_exporter": "python",
   "pygments_lexer": "ipython3",
   "version": "3.11.6"
  }
 },
 "nbformat": 4,
 "nbformat_minor": 2
}
